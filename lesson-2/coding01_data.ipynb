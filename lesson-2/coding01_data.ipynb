{
 "cells": [
  {
   "cell_type": "raw",
   "metadata": {},
   "source": []
  },
  {
   "cell_type": "code",
   "execution_count": 1,
   "metadata": {},
   "outputs": [],
   "source": [
    "import pandas as pd\n",
    "import seaborn as sns"
   ]
  },
  {
   "cell_type": "code",
   "execution_count": 2,
   "metadata": {},
   "outputs": [],
   "source": [
    "# In this example, you will be parsing some tweets about stock prices\n",
    "\n",
    "tweets = pd.read_csv('data/so_many_tweets.csv')\n"
   ]
  },
  {
   "cell_type": "code",
   "execution_count": 3,
   "metadata": {},
   "outputs": [
    {
     "name": "stdout",
     "output_type": "stream",
     "text": [
      "THIS TWEET IS ABOUT $TWTR\n",
      "THIS TWEET IS ABOUT $AAPL\n"
     ]
    }
   ],
   "source": [
    "first_tweet = tweets['Text'][0]         # first tweet in the dataset\n",
    "words_in_tweet = first_tweet.split(' ') # a list of words in tweet\n",
    "for word in words_in_tweet:             # for each word in the list\n",
    "    if \"$\" in word:\n",
    "        print (\"THIS TWEET IS ABOUT\", word)\n"
   ]
  },
  {
   "cell_type": "code",
   "execution_count": 4,
   "metadata": {},
   "outputs": [
    {
     "data": {
      "text/plain": [
       "['RT',\n",
       " '@j_o_h_n_danger:',\n",
       " '$TWTR',\n",
       " 'now',\n",
       " 'top',\n",
       " 'holding',\n",
       " 'for',\n",
       " 'Andor,',\n",
       " 'unseating',\n",
       " '$AAPL',\n",
       " 'http://t.co/vPrx4mUONZ']"
      ]
     },
     "execution_count": 4,
     "metadata": {},
     "output_type": "execute_result"
    }
   ],
   "source": [
    "words_in_tweet\n"
   ]
  },
  {
   "cell_type": "code",
   "execution_count": 5,
   "metadata": {},
   "outputs": [
    {
     "data": {
      "text/html": [
       "<div>\n",
       "<style scoped>\n",
       "    .dataframe tbody tr th:only-of-type {\n",
       "        vertical-align: middle;\n",
       "    }\n",
       "\n",
       "    .dataframe tbody tr th {\n",
       "        vertical-align: top;\n",
       "    }\n",
       "\n",
       "    .dataframe thead th {\n",
       "        text-align: right;\n",
       "    }\n",
       "</style>\n",
       "<table border=\"1\" class=\"dataframe\">\n",
       "  <thead>\n",
       "    <tr style=\"text-align: right;\">\n",
       "      <th></th>\n",
       "      <th>TV</th>\n",
       "      <th>Radio</th>\n",
       "      <th>Newspaper</th>\n",
       "      <th>Sales</th>\n",
       "    </tr>\n",
       "  </thead>\n",
       "  <tbody>\n",
       "    <tr>\n",
       "      <th>1</th>\n",
       "      <td>230.1</td>\n",
       "      <td>37.8</td>\n",
       "      <td>69.2</td>\n",
       "      <td>22.1</td>\n",
       "    </tr>\n",
       "    <tr>\n",
       "      <th>2</th>\n",
       "      <td>44.5</td>\n",
       "      <td>39.3</td>\n",
       "      <td>45.1</td>\n",
       "      <td>10.4</td>\n",
       "    </tr>\n",
       "    <tr>\n",
       "      <th>3</th>\n",
       "      <td>17.2</td>\n",
       "      <td>45.9</td>\n",
       "      <td>69.3</td>\n",
       "      <td>9.3</td>\n",
       "    </tr>\n",
       "    <tr>\n",
       "      <th>4</th>\n",
       "      <td>151.5</td>\n",
       "      <td>41.3</td>\n",
       "      <td>58.5</td>\n",
       "      <td>18.5</td>\n",
       "    </tr>\n",
       "    <tr>\n",
       "      <th>5</th>\n",
       "      <td>180.8</td>\n",
       "      <td>10.8</td>\n",
       "      <td>58.4</td>\n",
       "      <td>12.9</td>\n",
       "    </tr>\n",
       "  </tbody>\n",
       "</table>\n",
       "</div>"
      ],
      "text/plain": [
       "      TV  Radio  Newspaper  Sales\n",
       "1  230.1   37.8       69.2   22.1\n",
       "2   44.5   39.3       45.1   10.4\n",
       "3   17.2   45.9       69.3    9.3\n",
       "4  151.5   41.3       58.5   18.5\n",
       "5  180.8   10.8       58.4   12.9"
      ]
     },
     "execution_count": 5,
     "metadata": {},
     "output_type": "execute_result"
    }
   ],
   "source": [
    "# A dataset that shows the relationship between the money spent in the categories of TV,radio, and newspaper.\n",
    "\n",
    "%matplotlib inline\n",
    "data = pd.read_csv('data/Advertising.csv', index_col=0)\n",
    "data.head()\n"
   ]
  },
  {
   "cell_type": "code",
   "execution_count": 6,
   "metadata": {},
   "outputs": [
    {
     "data": {
      "text/plain": [
       "<seaborn.axisgrid.PairGrid at 0x23ec21ba730>"
      ]
     },
     "execution_count": 6,
     "metadata": {},
     "output_type": "execute_result"
    },
    {
     "data": {
      "image/png": "[encoded data removed]",
      "text/plain": [
       "<Figure size 540x180 with 3 Axes>"
      ]
     },
     "metadata": {
      "needs_background": "light"
     },
     "output_type": "display_data"
    }
   ],
   "source": [
    "#If we plot each variable against sales, we get the following graphs\n",
    "\n",
    "sns.pairplot(data, x_vars=['TV','Radio','Newspaper'], y_vars='Sales')\n"
   ]
  },
  {
   "cell_type": "code",
   "execution_count": 7,
   "metadata": {},
   "outputs": [
    {
     "data": {
      "text/html": [
       "<div>\n",
       "<style scoped>\n",
       "    .dataframe tbody tr th:only-of-type {\n",
       "        vertical-align: middle;\n",
       "    }\n",
       "\n",
       "    .dataframe tbody tr th {\n",
       "        vertical-align: top;\n",
       "    }\n",
       "\n",
       "    .dataframe thead th {\n",
       "        text-align: right;\n",
       "    }\n",
       "</style>\n",
       "<table border=\"1\" class=\"dataframe\">\n",
       "  <thead>\n",
       "    <tr style=\"text-align: right;\">\n",
       "      <th></th>\n",
       "      <th>job_location</th>\n",
       "      <th>job_title</th>\n",
       "      <th>company</th>\n",
       "      <th>job_description</th>\n",
       "    </tr>\n",
       "  </thead>\n",
       "  <tbody>\n",
       "    <tr>\n",
       "      <th>0</th>\n",
       "      <td>Pasig</td>\n",
       "      <td>Data Scientist</td>\n",
       "      <td></td>\n",
       "      <td>Talent. Technology. Trust.Join our team, and g...</td>\n",
       "    </tr>\n",
       "    <tr>\n",
       "      <th>1</th>\n",
       "      <td>Pasig</td>\n",
       "      <td>Data Scientist- Shared Services (Night Shift)</td>\n",
       "      <td></td>\n",
       "      <td>PSB Technology Services, Inc. is a Manila-base...</td>\n",
       "    </tr>\n",
       "    <tr>\n",
       "      <th>2</th>\n",
       "      <td>Pasig</td>\n",
       "      <td>Data Scientist</td>\n",
       "      <td></td>\n",
       "      <td>Theoria Medical is a comprehensive medical gro...</td>\n",
       "    </tr>\n",
       "    <tr>\n",
       "      <th>3</th>\n",
       "      <td>Pasig</td>\n",
       "      <td>Marketing Data Scientist</td>\n",
       "      <td></td>\n",
       "      <td>You will help write queries and run reports, b...</td>\n",
       "    </tr>\n",
       "    <tr>\n",
       "      <th>4</th>\n",
       "      <td>Pasig</td>\n",
       "      <td>Data Scientist</td>\n",
       "      <td></td>\n",
       "      <td>Company ProfileWe are an Australian company in...</td>\n",
       "    </tr>\n",
       "    <tr>\n",
       "      <th>5</th>\n",
       "      <td>Pasig</td>\n",
       "      <td>Data Scientist (Bootcamp)</td>\n",
       "      <td></td>\n",
       "      <td>Job Description\\n\\nA Data Scientist(CL1) shoul...</td>\n",
       "    </tr>\n",
       "    <tr>\n",
       "      <th>6</th>\n",
       "      <td>Pasig</td>\n",
       "      <td>Data Scientist</td>\n",
       "      <td></td>\n",
       "      <td>We’re JTI, Japan Tobacco International and we ...</td>\n",
       "    </tr>\n",
       "    <tr>\n",
       "      <th>7</th>\n",
       "      <td>Pasig</td>\n",
       "      <td>Data Scientist / Scientist Data</td>\n",
       "      <td></td>\n",
       "      <td>Position: Data ScientistSection / DivisionData...</td>\n",
       "    </tr>\n",
       "    <tr>\n",
       "      <th>8</th>\n",
       "      <td>Pasig</td>\n",
       "      <td>Data Scientist</td>\n",
       "      <td></td>\n",
       "      <td>Preamble\\n\\nThe Analytics Team, which is part ...</td>\n",
       "    </tr>\n",
       "    <tr>\n",
       "      <th>9</th>\n",
       "      <td>Pasig</td>\n",
       "      <td>Data Scientist</td>\n",
       "      <td></td>\n",
       "      <td>JOB DESCRIPTION\\nJOB\\nSUMMARY\\n\\nResponsible f...</td>\n",
       "    </tr>\n",
       "  </tbody>\n",
       "</table>\n",
       "</div>"
      ],
      "text/plain": [
       "  job_location                                      job_title company  \\\n",
       "0        Pasig                                 Data Scientist           \n",
       "1        Pasig  Data Scientist- Shared Services (Night Shift)           \n",
       "2        Pasig                                 Data Scientist           \n",
       "3        Pasig                       Marketing Data Scientist           \n",
       "4        Pasig                                 Data Scientist           \n",
       "5        Pasig                      Data Scientist (Bootcamp)           \n",
       "6        Pasig                                 Data Scientist           \n",
       "7        Pasig                Data Scientist / Scientist Data           \n",
       "8        Pasig                                 Data Scientist           \n",
       "9        Pasig                                 Data Scientist           \n",
       "\n",
       "                                     job_description  \n",
       "0  Talent. Technology. Trust.Join our team, and g...  \n",
       "1  PSB Technology Services, Inc. is a Manila-base...  \n",
       "2  Theoria Medical is a comprehensive medical gro...  \n",
       "3  You will help write queries and run reports, b...  \n",
       "4  Company ProfileWe are an Australian company in...  \n",
       "5  Job Description\\n\\nA Data Scientist(CL1) shoul...  \n",
       "6  We’re JTI, Japan Tobacco International and we ...  \n",
       "7  Position: Data ScientistSection / DivisionData...  \n",
       "8  Preamble\\n\\nThe Analytics Team, which is part ...  \n",
       "9  JOB DESCRIPTION\\nJOB\\nSUMMARY\\n\\nResponsible f...  "
      ]
     },
     "execution_count": 7,
     "metadata": {},
     "output_type": "execute_result"
    }
   ],
   "source": [
    "# Scraping indeed.com with BeautifulSoup\n",
    "# (source: https://medium.com/codex/web-scraping-with-beautifulsoup-66a3a2b3b60)\n",
    "\n",
    "# In this example, you will \"scrape\" (taken from the Web) job descriptions for companies \n",
    "# in Pasig actively hiring data scientists. \n",
    "\n",
    "import requests\n",
    "import bs4\n",
    "from bs4 import BeautifulSoup\n",
    "import pandas as pd\n",
    "\n",
    "url_temp= \"https://ph.indeed.com/jobs?q={}&l={}&start={}\"\n",
    "base_link=\"https://ph.indeed.com\"\n",
    "headers = {\"User-Agent\": \"Mozilla/5.0 (Windows NT 10.0; Win64; x64) AppleWebKit/537.36 (KHTML, like Gecko) Chrome/70.0.3538.77 Safari/537.36\"}\n",
    "def get_href(url_temp,position,city):\n",
    "    results_per_city=200\n",
    "    href_list=[]\n",
    "    for start in range(0,results_per_city+10,10):\n",
    "        url=url_temp.format(position,city,start)\n",
    "        r=requests.get(url,headers=headers)\n",
    "        soup=BeautifulSoup(r.text,\"html.parser\")    \n",
    "       \n",
    "        for i in soup.find_all('a'):\n",
    "            # if tag has attribute of class\n",
    "            if i.has_attr( \"href\" ):\n",
    "                k=i['href']\n",
    "                href_list.append(base_link+k)\n",
    "    \n",
    "    return href_list\n",
    "  \n",
    "def get_job_links(href_list):\n",
    "    job_links=[]\n",
    "    for a in href_list:\n",
    "        if a.find('/rc/clk')!=-1:\n",
    "            job_links.append(a)\n",
    "        elif a.find('/company/')!=-1:\n",
    "            job_links.append(a)\n",
    "    return job_links\n",
    "  \n",
    "def get_job_df(job_links,city):\n",
    "    df=pd.DataFrame(columns=[\"job_location\", \"job_title\", \"company\", \"job_description\"])\n",
    "    \n",
    "    for i in job_links:\n",
    "        req=requests.get(i,headers=headers)\n",
    "        soup_req=BeautifulSoup(req.text,\"html.parser\")\n",
    "        try:\n",
    "            title=soup_req.find('h1',{'class': 'icl-u-xs-mb--xs icl-u-xs-mt--none jobsearch-JobInfoHeader-title'}).text\n",
    "        except:\n",
    "            continue\n",
    "        try:\n",
    "            company=soup_req.find('div',{'class':'icl-u-lg-mr--sm icl-u-xs-mr--xs'}).text\n",
    "        except:\n",
    "            continue\n",
    "        try:\n",
    "            location=soup_req.find('div',{'class':'jobsearch-InlineCompanyRating icl-u-xs-mt--xs jobsearch-DesktopStickyContainer-companyrating'}).text\n",
    "        except:\n",
    "            location=city\n",
    "        try:\n",
    "            desc=soup_req.find('div',{'class':'jobsearch-jobDescriptionText'}).text\n",
    "        except:\n",
    "            continue\n",
    "        df = df.append({\"job_location\":city, \"job_title\":title, \"company\":company, \"job_description\":desc},\n",
    "                       ignore_index=True)\n",
    "    \n",
    "    return df\n",
    "  \n",
    "def get_job_postings(url_temp,position,city):\n",
    "    \n",
    "    href_list= get_href(url_temp,position,city)\n",
    "    \n",
    "    job_links= get_job_links(href_list)\n",
    "    \n",
    "    job_df= get_job_df(job_links,city)\n",
    "    \n",
    "    return job_df\n",
    "\n",
    "data_scientist_df= get_job_postings(url_temp,position='Data+Scientist',city='Pasig')\n",
    "data_scientist_df.head(10)"
   ]
  },
  {
   "cell_type": "code",
   "execution_count": 8,
   "metadata": {},
   "outputs": [
    {
     "name": "stdout",
     "output_type": "stream",
     "text": [
      "25772\n",
      "data 1423\n",
      "business 564\n",
      "experience 542\n",
      "analytics 360\n",
      "team 353\n",
      "work 344\n",
      "science 307\n",
      "skills 269\n",
      "learning 223\n",
      "data science 217\n",
      "tools 203\n",
      "models 184\n",
      "analysis 179\n",
      "using 178\n",
      "knowledge 170\n",
      "management 168\n",
      "machine 163\n",
      "years 160\n",
      "role 159\n",
      "machine learning 159\n",
      "marketing 157\n",
      "working 153\n",
      "client 150\n",
      "strong 149\n",
      "ability 146\n"
     ]
    }
   ],
   "source": [
    "# The goal here is to look at some of the most\n",
    "# common keywords people use in their job descriptions.\n",
    "\n",
    "from sklearn.feature_extraction.text import CountVectorizer\n",
    "# used to count number of words and phrases\n",
    "\n",
    "texts = data_scientist_df['job_description'].to_list()\n",
    "\n",
    "vect = CountVectorizer(ngram_range=(1,2), stop_words='english')\n",
    "# make a count vectorizer to get basic counts\n",
    "\n",
    "matrix = vect.fit_transform(texts)\n",
    "# fit and learn to the vocabulary in the corpus\n",
    "\n",
    "print (len(vect.get_feature_names()))  # how many features are there\n",
    "\n",
    "freqs = [(word, matrix.getcol(idx).sum()) for word, idx in vect.vocabulary_.items()]\n",
    "#sort from largest to smallest\n",
    "for phrase, times in sorted (freqs, key = lambda x: -x[1])[:25]:\n",
    "    print (phrase, times)\n",
    "    \n",
    "    \n",
    "    "
   ]
  },
  {
   "cell_type": "code",
   "execution_count": 35,
   "metadata": {},
   "outputs": [
    {
     "data": {
      "text/html": [
       "<div>\n",
       "<style scoped>\n",
       "    .dataframe tbody tr th:only-of-type {\n",
       "        vertical-align: middle;\n",
       "    }\n",
       "\n",
       "    .dataframe tbody tr th {\n",
       "        vertical-align: top;\n",
       "    }\n",
       "\n",
       "    .dataframe thead th {\n",
       "        text-align: right;\n",
       "    }\n",
       "</style>\n",
       "<table border=\"1\" class=\"dataframe\">\n",
       "  <thead>\n",
       "    <tr style=\"text-align: right;\">\n",
       "      <th></th>\n",
       "      <th>country</th>\n",
       "      <th>beer_servings</th>\n",
       "      <th>spirit_servings</th>\n",
       "      <th>wine_servings</th>\n",
       "      <th>total_litres_of_pure_alcohol</th>\n",
       "      <th>continent</th>\n",
       "    </tr>\n",
       "  </thead>\n",
       "  <tbody>\n",
       "    <tr>\n",
       "      <th>0</th>\n",
       "      <td>Afghanistan</td>\n",
       "      <td>0</td>\n",
       "      <td>0</td>\n",
       "      <td>0</td>\n",
       "      <td>0.0</td>\n",
       "      <td>AS</td>\n",
       "    </tr>\n",
       "    <tr>\n",
       "      <th>1</th>\n",
       "      <td>Albania</td>\n",
       "      <td>89</td>\n",
       "      <td>132</td>\n",
       "      <td>54</td>\n",
       "      <td>4.9</td>\n",
       "      <td>EU</td>\n",
       "    </tr>\n",
       "    <tr>\n",
       "      <th>2</th>\n",
       "      <td>Algeria</td>\n",
       "      <td>25</td>\n",
       "      <td>0</td>\n",
       "      <td>14</td>\n",
       "      <td>0.7</td>\n",
       "      <td>AF</td>\n",
       "    </tr>\n",
       "    <tr>\n",
       "      <th>3</th>\n",
       "      <td>Andorra</td>\n",
       "      <td>245</td>\n",
       "      <td>138</td>\n",
       "      <td>312</td>\n",
       "      <td>12.4</td>\n",
       "      <td>EU</td>\n",
       "    </tr>\n",
       "    <tr>\n",
       "      <th>4</th>\n",
       "      <td>Angola</td>\n",
       "      <td>217</td>\n",
       "      <td>57</td>\n",
       "      <td>45</td>\n",
       "      <td>5.9</td>\n",
       "      <td>AF</td>\n",
       "    </tr>\n",
       "  </tbody>\n",
       "</table>\n",
       "</div>"
      ],
      "text/plain": [
       "       country  beer_servings  spirit_servings  wine_servings  \\\n",
       "0  Afghanistan              0                0              0   \n",
       "1      Albania             89              132             54   \n",
       "2      Algeria             25                0             14   \n",
       "3      Andorra            245              138            312   \n",
       "4       Angola            217               57             45   \n",
       "\n",
       "   total_litres_of_pure_alcohol continent  \n",
       "0                           0.0        AS  \n",
       "1                           4.9        EU  \n",
       "2                           0.7        AF  \n",
       "3                          12.4        EU  \n",
       "4                           5.9        AF  "
      ]
     },
     "execution_count": 35,
     "metadata": {},
     "output_type": "execute_result"
    }
   ],
   "source": [
    "\n",
    "import pandas as pd\n",
    "# read in the CSV file from a URL\n",
    "drinks = pd.read_csv('data/drinks.csv')\n",
    "# examine the data's first five rows\n",
    "drinks.head() # print the first 5 rows\n",
    "\n",
    "# Determine if qualitative or quantitative"
   ]
  },
  {
   "cell_type": "code",
   "execution_count": 37,
   "metadata": {},
   "outputs": [
    {
     "data": {
      "text/plain": [
       "count     170\n",
       "unique      5\n",
       "top        AF\n",
       "freq       53\n",
       "Name: continent, dtype: object"
      ]
     },
     "execution_count": 37,
     "metadata": {},
     "output_type": "execute_result"
    }
   ],
   "source": [
    "drinks['continent'].describe()"
   ]
  },
  {
   "cell_type": "code",
   "execution_count": 38,
   "metadata": {},
   "outputs": [
    {
     "data": {
      "text/plain": [
       "count    193.000000\n",
       "mean     106.160622\n",
       "std      101.143103\n",
       "min        0.000000\n",
       "25%       20.000000\n",
       "50%       76.000000\n",
       "75%      188.000000\n",
       "max      376.000000\n",
       "Name: beer_servings, dtype: float64"
      ]
     },
     "execution_count": 38,
     "metadata": {},
     "output_type": "execute_result"
    }
   ],
   "source": [
    "drinks['beer_servings'].describe()"
   ]
  },
  {
   "cell_type": "code",
   "execution_count": 39,
   "metadata": {},
   "outputs": [],
   "source": [
    "# notice the difference between drinks['continent'].describe() and drinks['beer_servings'].describe()"
   ]
  },
  {
   "cell_type": "code",
   "execution_count": 42,
   "metadata": {},
   "outputs": [
    {
     "name": "stdout",
     "output_type": "stream",
     "text": [
      "[1, 1, 1, 2, 2, 2, 2, 2, 3, 3, 3, 3, 3, 3, 4, 4, 4, 4, 4, 4, 4, 4, 4, 4, 4, 5, 5, 5, 5, 5, 5, 5]\n",
      "3.4375\n",
      "4.0\n"
     ]
    }
   ],
   "source": [
    "# Measures of center\n",
    "\n",
    "import numpy\n",
    "results = [5, 4, 3, 4, 5, 3, 2, 5, 3, 2, 1, 4, 5, 3, 4, 4, 5, 4, 2, 1,\n",
    "4, 5, 4, 3, 2, 4, 4, 5, 4, 3, 2, 1]\n",
    "sorted_results = sorted(results)\n",
    "print (sorted_results)\n",
    "'''\n",
    "[1, 1, 1, 2, 2, 2, 2, 2, 3, 3, 3, 3, 3, 3, 4, 4, 4, 4, 4, 4, 4, 4, 4,\n",
    "4, 4, 5, 5, 5, 5, 5, 5, 5]\n",
    "'''\n",
    "print (numpy.mean(results)) # == 3.4375\n",
    "print (numpy.median(results)) # == 4.0"
   ]
  },
  {
   "cell_type": "code",
   "execution_count": 44,
   "metadata": {},
   "outputs": [
    {
     "name": "stdout",
     "output_type": "stream",
     "text": [
      "30.733333333333334\n",
      "31.0\n"
     ]
    }
   ],
   "source": [
    "import numpy\n",
    "temps = [31, 32, 32, 31, 28, 29, 31, 38, 32, 31, 30, 29, 30, 31, 26]\n",
    "print (numpy.mean(temps)) # == 30.73\n",
    "print (numpy.median(temps)) # == 31.0"
   ]
  },
  {
   "cell_type": "code",
   "execution_count": 48,
   "metadata": {},
   "outputs": [
    {
     "name": "stdout",
     "output_type": "stream",
     "text": [
      "2.5157283018817607\n"
     ]
    }
   ],
   "source": [
    "# Standard deviation\n",
    "\n",
    "mean = numpy.mean(temps) # == 30.73\n",
    "squared_differences = []\n",
    "# empty list o squared differences\n",
    "for temperature in temps:\n",
    "    difference = temperature - mean\n",
    "    # how far is the point from the mean\n",
    "    squared_difference = difference**2\n",
    "    # square the difference\n",
    "    squared_differences.append(squared_difference)\n",
    "    # add it to our list\n",
    "average_squared_difference = numpy.mean(squared_differences)\n",
    "# This number is also called the \"Variance\"\n",
    "standard_deviation = numpy.sqrt(average_squared_difference)\n",
    "print (standard_deviation) # == 2.5157"
   ]
  },
  {
   "cell_type": "code",
   "execution_count": null,
   "metadata": {},
   "outputs": [],
   "source": []
  }
 ],
 "metadata": {
  "kernelspec": {
   "display_name": "Python 3",
   "language": "python",
   "name": "python3"
  },
  "language_info": {
   "codemirror_mode": {
    "name": "ipython",
    "version": 3
   },
   "file_extension": ".py",
   "mimetype": "text/x-python",
   "name": "python",
   "nbconvert_exporter": "python",
   "pygments_lexer": "ipython3",
   "version": "3.8.8"
  }
 },
 "nbformat": 4,
 "nbformat_minor": 1
}
